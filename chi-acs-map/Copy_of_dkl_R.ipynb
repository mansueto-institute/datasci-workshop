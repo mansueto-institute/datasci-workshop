{
  "nbformat": 4,
  "nbformat_minor": 0,
  "metadata": {
    "colab": {
      "name": "Copy of dkl.R",
      "provenance": [],
      "collapsed_sections": []
    },
    "kernelspec": {
      "display_name": "R",
      "name": "ir"
    },
    "language_info": {
      "name": "R"
    }
  },
  "cells": [
    {
      "cell_type": "code",
      "metadata": {
        "colab": {
          "background_save": true
        },
        "id": "9-aZWnoD0F30"
      },
      "source": [
        "# Install and setup\n",
        "system('sudo add-apt-repository ppa:ubuntugis/ubuntugis-unstable')\n",
        "system('sudo apt-get update')\n",
        "system('sudo apt-get install libudunits2-dev libgdal-dev libgeos-dev libproj-dev')\n",
        "install.packages('sf', dependencies = TRUE)\n",
        "install.packages('lwgeom', dependencies = TRUE)\n",
        "install.packages(\"rgdal\", dependencies = TRUE)\n",
        "install.packages(\"bindrcpp\", dependencies = TRUE)\n",
        "devtools::install_github('walkerke/tigris', dependencies=TRUE)\n",
        "devtools::install_github(\"walkerke/tidycensus\", dependencies = TRUE)\n",
        "install.packages('viridis')\n",
        "install.packages('shiny')\n",
        "install.packages('patchwork')"
      ],
      "execution_count": null,
      "outputs": []
    },
    {
      "cell_type": "code",
      "metadata": {
        "id": "JDAsF4ml0JWX"
      },
      "source": [
        "library(tigris)\n",
        "library(tidycensus)\n",
        "library(sf)\n",
        "library(lwgeom)\n",
        "library(tidyverse)\n",
        "library(scales)\n",
        "library(viridis)\n",
        "library(DT)\n",
        "library(shiny)\n",
        "library(ggplot2)\n",
        "library(readxl)\n",
        "library(patchwork)"
      ],
      "execution_count": null,
      "outputs": []
    },
    {
      "cell_type": "code",
      "metadata": {
        "id": "4pBE2pk30Wcx"
      },
      "source": [
        "# Obtain Census API Key here: https://api.census.gov/data/key_signup.html\n",
        "census_api_key('API_KEY', install = TRUE)\n",
        "readRenviron(\"~/.Renviron\")"
      ],
      "execution_count": null,
      "outputs": []
    },
    {
      "cell_type": "code",
      "metadata": {
        "id": "GSkLYbxn0Wrs"
      },
      "source": [
        "\n",
        "# Function to launch a mini Shiny app to look up Census variables\n",
        "explore_acs_vars <- function () { \n",
        "  ui <- basicPage(h2(\"ACS Variable Search\"), \n",
        "                  tags$style('#display {height:100px; white-space: pre-wrap;}'),\n",
        "                  verbatimTextOutput('display', placeholder = TRUE),\n",
        "                  mainPanel(DT::dataTableOutput(outputId = \"acs_table\", width = '800px'))\n",
        "  )\n",
        "  server <- function(input, output, session) {\n",
        "    output$acs_table= DT::renderDataTable({ \n",
        "      acs5_vars <- acs5_vars \n",
        "    }, filter = \"top\", selection = 'multiple', options = list(columnDefs = list( list(className = \"nowrap\",width = '100px', targets = c(1,2))), pageLength = 20), server = TRUE) \n",
        "    selected_index <- reactive({\n",
        "      acs5_vars %>% slice(input$acs_table_rows_selected) %>% pull(name)\n",
        "    })\n",
        "    output$display = renderPrint({\n",
        "      s = unique(input$acs_table_rows_selected)\n",
        "      if (length(s)) {cat(paste0(\"'\",selected_index(),\"'\",collapse = \",\"))}\n",
        "    })\n",
        "  }\n",
        "  shinyApp(ui, server)\n",
        "}\n"
      ],
      "execution_count": null,
      "outputs": []
    },
    {
      "cell_type": "code",
      "metadata": {
        "id": "UR1g3weB0W2l"
      },
      "source": [
        "\n",
        "# Metro crosswalk\n",
        "xwalk_url <- 'https://www2.census.gov/programs-surveys/metro-micro/geographies/reference-files/2020/delineation-files/list1_2020.xls'\n",
        "tmp_filepath <- paste0(tempdir(), '/', basename(xwalk_url))\n",
        "download.file(url = paste0(xwalk_url), destfile = tmp_filepath)\n",
        "cbsa_xwalk <- read_excel(tmp_filepath, sheet = 1, range = cell_rows(3:1919))\n",
        "cbsa_xwalk <- cbsa_xwalk %>% \n",
        "  select_all(~gsub(\"\\\\s+|\\\\.|\\\\/\", \"_\", .)) %>%\n",
        "  rename_all(list(tolower)) %>%\n",
        "  mutate(fips_state_code = str_pad(fips_state_code, width=2, side=\"left\", pad=\"0\"),\n",
        "         fips_county_code = str_pad(fips_county_code, width=3, side=\"left\", pad=\"0\"),\n",
        "         county_fips = paste0(fips_state_code,fips_county_code)) %>%\n",
        "  rename(cbsa_fips = cbsa_code,\n",
        "         area_type = metropolitan_micropolitan_statistical_area) %>%\n",
        "  select(county_fips,cbsa_fips,cbsa_title,area_type,central_outlying_county) "
      ],
      "execution_count": null,
      "outputs": []
    },
    {
      "cell_type": "code",
      "metadata": {
        "id": "AvwqR7zZ0hLy"
      },
      "source": [
        "# Census Variables\n",
        "acs5_vars <- load_variables(year = 2019, dataset = c('acs5'), cache = FALSE) \n",
        "# Separate concept column so its easier to sort through\n",
        "acs5_vars <- acs5_vars %>% separate(col = 'concept',  \n",
        "                                    into = c('concept_main','concept_part'),\n",
        "                                    sep = c(' BY '),\n",
        "                                    remove = FALSE,\n",
        "                                    extra = \"merge\") %>%\n",
        "  mutate(concept_part = case_when(is.na(concept_part) ~ 'TOTAL',\n",
        "                                  TRUE ~ as.character(concept_part)))\n"
      ],
      "execution_count": null,
      "outputs": []
    },
    {
      "cell_type": "code",
      "metadata": {
        "id": "fR2XPhw60lgf"
      },
      "source": [
        "# Create HTML Search Window to find variables\n",
        "explore_acs_vars()\n"
      ],
      "execution_count": null,
      "outputs": []
    },
    {
      "cell_type": "code",
      "metadata": {
        "id": "RZY2M6NmZyLW"
      },
      "source": [
        "df %>% select(variable, )"
      ],
      "execution_count": null,
      "outputs": []
    },
    {
      "cell_type": "code",
      "metadata": {
        "id": "sSWuniAa0nLB"
      },
      "source": [
        "# Select income, education, race (other dimensions are commented out)\n",
        "acs5_vars_selected <- c(#'B23025_004','B23025_005','B23025_006','B23025_007',\n",
        "                        #'B06001_002','B06001_003','B06001_004','B06001_005','B06001_006','B06001_007','B06001_008','B06001_009','B06001_010','B06001_011','B06001_012',\n",
        "                        'B19001_002','B19001_003','B19001_004','B19001_005','B19001_006','B19001_007','B19001_008','B19001_009','B19001_010','B19001_011','B19001_012','B19001_013','B19001_014','B19001_015','B19001_016','B19001_017',\n",
        "                        #'B19001A_002','B19001A_003','B19001A_004','B19001A_005','B19001A_006','B19001A_007','B19001A_008','B19001A_009','B19001A_010','B19001A_011','B19001A_012','B19001A_013','B19001A_014','B19001A_015','B19001A_016','B19001A_017',\n",
        "                        #'B19001B_002','B19001B_003','B19001B_004','B19001B_005','B19001B_006','B19001B_007','B19001B_008','B19001B_009','B19001B_010','B19001B_011','B19001B_012','B19001B_013','B19001B_014','B19001B_015','B19001B_016','B19001B_017',\n",
        "                        #'B19001C_002','B19001C_003','B19001C_004','B19001C_005','B19001C_006','B19001C_007','B19001C_008','B19001C_009','B19001C_010','B19001C_011','B19001C_012','B19001C_013','B19001C_014','B19001C_015','B19001C_016','B19001C_017',\n",
        "                        #'B19001C_002','B19001C_003','B19001C_004','B19001C_005','B19001C_006','B19001C_007','B19001C_008','B19001C_009','B19001C_010','B19001C_011','B19001C_012','B19001C_013','B19001C_014','B19001C_015','B19001C_016','B19001C_017',\n",
        "                        #'B19001D_002','B19001D_003','B19001D_004','B19001D_005','B19001D_006','B19001D_007','B19001D_008','B19001D_009','B19001D_010','B19001D_011','B19001D_012','B19001D_013','B19001D_014','B19001D_015','B19001D_016','B19001D_017',\n",
        "                        #'B19001E_002','B19001E_003','B19001E_004','B19001E_005','B19001E_006','B19001E_007','B19001E_008','B19001E_009','B19001E_010','B19001E_011','B19001E_012','B19001E_013','B19001E_014','B19001E_015','B19001E_016','B19001E_017',\n",
        "                        #'B19001F_002','B19001F_003','B19001F_004','B19001F_005','B19001F_006','B19001F_007','B19001F_008','B19001F_009','B19001F_010','B19001F_011','B19001F_012','B19001F_013','B19001F_014','B19001F_015','B19001F_016','B19001F_017',\n",
        "                        #'B19001G_002','B19001G_003','B19001G_004','B19001G_005','B19001G_006','B19001G_007','B19001G_008','B19001G_009','B19001G_010','B19001G_011','B19001G_012','B19001G_013','B19001G_014','B19001G_015','B19001G_016','B19001G_017',\n",
        "                        #'B19001H_002','B19001H_003','B19001H_004','B19001H_005','B19001H_006','B19001H_007','B19001H_008','B19001H_009','B19001H_010','B19001H_011','B19001H_012','B19001H_013','B19001H_014','B19001H_015','B19001H_016','B19001H_017',\n",
        "                        #'B19001I_002','B19001I_003','B19001I_004','B19001I_005','B19001I_006','B19001I_007','B19001I_008','B19001I_009','B19001I_010','B19001I_011','B19001I_012','B19001I_013','B19001I_014','B19001I_015','B19001I_016','B19001I_017',\n",
        "                        #'B08126_002','B08126_003','B08126_004','B08126_005','B08126_006','B08126_007','B08126_008','B08126_009','B08126_010','B08126_011','B08126_012','B08126_013','B08126_014','B08126_015',        \n",
        "                        #'B08124_002','B08124_003','B08124_004','B08124_005','B08124_006','B08124_007',\n",
        "                        'B15003_002','B15003_003','B15003_004','B15003_005','B15003_006','B15003_007','B15003_008','B15003_009','B15003_010','B15003_011','B15003_012','B15003_013','B15003_014','B15003_015','B15003_016',\n",
        "                        'B15003_017','B15003_018','B15003_019','B15003_020','B15003_021','B15003_022','B15003_023','B15003_024','B15003_025',\n",
        "                        'B02001_002','B02001_003','B02001_004','B02001_005','B02001_006','B02001_007','B02001_008',\n",
        "                        #'B03001_002','B03001_003'\n",
        "                        )"
      ],
      "execution_count": null,
      "outputs": []
    },
    {
      "cell_type": "code",
      "metadata": {
        "id": "pxidS83D0vJG"
      },
      "source": [
        "# Download state codes via tidycensus' \"fips_codes\" data set\n",
        "state_xwalk <- as.data.frame(fips_codes) %>%\n",
        "  rename(state_fips = state_code,\n",
        "         state_codes = state,\n",
        "         county_name = county) %>%\n",
        "  mutate(county_fips = paste0(state_fips,county_code))\n",
        "# Make lists for FIPS and codes\n",
        "state_fips <- unique(state_xwalk$state_fips)[1:51]\n",
        "state_codes <- unique(state_xwalk$state_codes)[1:51]\n"
      ],
      "execution_count": null,
      "outputs": []
    },
    {
      "cell_type": "code",
      "metadata": {
        "id": "10svIx2LYZhQ"
      },
      "source": [
        "# Subset to states of interest (use state_codes list to get all states)\n",
        "state_list <- c('IL','WI','IN')\n"
      ],
      "execution_count": null,
      "outputs": []
    },
    {
      "cell_type": "code",
      "metadata": {
        "id": "Af67Qpxb0xG0"
      },
      "source": [
        "# Use purrr function map_df to run a get_acs call that loops over all states\n",
        "acs_tract_all_us_data <- map_df(state_list, function(x) {\n",
        "  get_acs(year = 2019, geography = \"tract\", survey = 'acs5', \n",
        "          variables = acs5_vars_selected, \n",
        "          state = x)\n",
        "})\n",
        "options(scipen=999)"
      ],
      "execution_count": null,
      "outputs": []
    },
    {
      "cell_type": "code",
      "metadata": {
        "id": "yLY_ARCh03zh"
      },
      "source": [
        "# Calculate and aggregate\n",
        "df <- acs_tract_all_us_data %>%\n",
        "  rename_all(list(tolower)) %>%\n",
        "  left_join(., acs5_vars %>% select(name, label), by = c('variable' = 'name')) %>%\n",
        "  mutate(label = gsub(\"Estimate!!Total:\", \"\", label), \n",
        "         label = gsub(\"With income:\", \"\", label),\n",
        "         label = gsub(\"In labor force\", \"\", label),\n",
        "         label = gsub(\"Civilian labor force\", \"\", label),\n",
        "         label = gsub(\"Household income the past 12 months \\\\(in 2019 inflation-adjusted dollars\\\\) --\", \"\", label),\n",
        "         label = gsub(\"\", \"\", label),\n",
        "         label = gsub(\"!!|:\", \"\", label)) %>%\n",
        "  separate(col = 'variable',  \n",
        "           into = c('variable_group','variable_item'),\n",
        "           sep = c('_'),\n",
        "           remove = FALSE,\n",
        "           extra = \"merge\") %>%\n",
        "  mutate(label = case_when(variable_group == 'B19001A' ~ paste0('White alone',' - ',label),\n",
        "                           variable_group == 'B19001B' ~ paste0('Black or African American alone',' - ',label),\n",
        "                           variable_group == 'B19001C' ~ paste0('Native American alone',' - ',label),\n",
        "                           variable_group == 'B19001D' ~ paste0('Asian alone',' - ',label),\n",
        "                           variable_group == 'B19001E' ~ paste0('Pacific Islander alone',' - ',label),\n",
        "                           variable_group == 'B19001F' ~ paste0('Some other race alone',' - ',label),\n",
        "                           variable_group == 'B19001G' ~ paste0('Two or more races',' - ',label),\n",
        "                           variable_group == 'B19001H' ~ paste0('White alone, not Latino',' - ',label),\n",
        "                           variable_group == 'B19001I' ~ paste0('Hispanic or Latino',' - ',label),\n",
        "                           TRUE ~ as.character(label))) %>%\n",
        "  mutate(group_label = case_when(variable_group == \"B02001\" ~ 'Race',\n",
        "                                 variable_group == \"B03001\" ~ 'Hispanic or Latino',\n",
        "                                 variable_group == \"B08124\" ~ 'Occupation',\n",
        "                                 variable_group == \"B08126\" ~ 'Industry',\n",
        "                                 variable_group == \"B15003\" ~ 'Education attainment',\n",
        "                                 variable_group == 'B23025' ~ 'Employment status',\n",
        "                                 variable_group == 'B06001' ~ 'Age',\n",
        "                                 variable_group == 'B19001' ~ 'Household income',\n",
        "                                 variable_group == 'B19001A' ~ 'Household income - White alone',\n",
        "                                 variable_group == 'B19001B' ~ 'Household income - Black or African American alone',\n",
        "                                 variable_group == 'B19001C' ~ 'Household income - Native American alone',\n",
        "                                 variable_group == 'B19001D' ~ 'Household income - Asian alone',\n",
        "                                 variable_group == 'B19001E' ~ 'Household income - Pacific Islander alone',\n",
        "                                 variable_group == 'B19001F' ~ 'Household income - Some other race alone',\n",
        "                                 variable_group == 'B19001G' ~ 'Household income - Two or more races',\n",
        "                                 variable_group == 'B19001H' ~ 'Household income - White alone, not Latino',\n",
        "                                 variable_group == 'B19001I' ~ 'Household income - Hispanic or Latino'),\n",
        "         county_fips = str_sub(geoid,1,5)) %>%\n",
        "  left_join(., state_xwalk, by = c('county_fips'='county_fips')) %>%\n",
        "  left_join(.,cbsa_xwalk, by = c('county_fips'='county_fips')) %>%\n",
        "  group_by(geoid, variable_group) %>% mutate(tract_total = sum(estimate)) %>% ungroup() %>%\n",
        "  group_by(county_fips, variable) %>% mutate(county_estimate = sum(estimate)) %>% ungroup() %>%\n",
        "  group_by(county_fips, variable_group) %>% mutate(county_total = sum(estimate)) %>% ungroup() %>%\n",
        "  group_by(cbsa_fips, variable) %>% mutate(cbsa_estimate = sum(estimate)) %>% ungroup() %>%\n",
        "  group_by(cbsa_fips, variable_group) %>% mutate(cbsa_total = sum(estimate)) %>% ungroup() %>%\n",
        "  mutate(tract_pct = estimate / tract_total,\n",
        "         county_pct = county_estimate / county_total,\n",
        "         cbsa_pct = cbsa_estimate / cbsa_total) %>%\n",
        "  rename(tract_estimate = estimate,\n",
        "         tract_fips = geoid) %>%\n",
        "  select(tract_fips,county_fips,county_name,cbsa_fips,cbsa_title,area_type,central_outlying_county,state_codes,state_fips,state_name,variable,variable_group,variable_item,group_label,label,tract_pct,tract_estimate,moe,tract_total,county_pct,county_estimate,county_total,cbsa_pct,cbsa_estimate,cbsa_total) %>%\n",
        "  arrange(county_fips, tract_fips, variable) %>%\n",
        "  mutate_at(vars(tract_pct,county_pct,cbsa_pct), ~replace(., is.nan(.), 0)) %>%\n",
        "  filter(cbsa_title %in% c(\"Chicago-Naperville-Elgin, IL-IN-WI\",\n",
        "                           \"Madison, WI\",\n",
        "                           \"Minneapolis-St. Paul-Bloomington, MN-WI\",\n",
        "                           \"Indianapolis-Carmel-Anderson, IN\",\n",
        "                           \"Milwaukee-Waukesha, WI\"))"
      ],
      "execution_count": null,
      "outputs": []
    },
    {
      "cell_type": "code",
      "metadata": {
        "id": "1MX3pr7q069C"
      },
      "source": [
        "# DKL\n",
        "df2 <- df %>% \n",
        "  mutate(p_ni = tract_total / cbsa_total, # Prob of being in tract in MSA \n",
        "         p_ni_yj = tract_estimate / cbsa_estimate, # Prob of being in tract among people in bin \n",
        "         p_yj = cbsa_estimate / cbsa_total, # Prob of being in bin for everyone in MSA \n",
        "         p_yj_ni = tract_estimate / tract_total) %>% # Prob of being in bin among people in tract \n",
        "  mutate_at(vars(p_ni,p_ni_yj,p_yj,p_yj_ni), ~replace(., is.nan(.), 0)) %>%\n",
        "  mutate(dkl_log_i = log(p_yj_ni / p_yj), # share of income in tract relative to share of income in metro\n",
        "         djl_log_j = log(p_ni_yj / p_ni) # tract share of metro bin relative to share of tract in metro\n",
        "  ) %>%\n",
        "  mutate_at(vars(dkl_log_i, djl_log_j), ~replace(., is.infinite(.), 0)) %>%\n",
        "  mutate_at(vars(dkl_log_i, djl_log_j), ~replace(., is.nan(.), 0)) %>%\n",
        "  mutate(dkl_tract_j = p_yj_ni * dkl_log_i, # DKL tract component\n",
        "         dkl_bin_i = p_ni_yj * djl_log_j) %>% # DKL bin component\n",
        "  group_by(variable_group, tract_fips) %>% mutate(dkl_tract = sum(dkl_tract_j)) %>% ungroup() %>% # Sum DKL tract components\n",
        "  group_by(variable_group, cbsa_fips, variable) %>% mutate(dkl_bin = sum(dkl_bin_i )) %>% ungroup() # Sum DKL bin components\n",
        "         "
      ],
      "execution_count": null,
      "outputs": []
    },
    {
      "cell_type": "code",
      "metadata": {
        "id": "TfAMi9be0-bK"
      },
      "source": [
        "# Geometries\n",
        "geom_tract <- get_acs(year = 2019, geography = \"tract\", survey = 'acs5', variables = 'B02001_001', state = '17', county = '031', geometry = TRUE) %>%\n",
        "  select(GEOID) %>% st_transform(crs = st_crs(4326)) \n",
        "\n",
        "# Community areas\n",
        "community_areas <- sf::st_read('https://data.cityofchicago.org/api/geospatial/cauq-8yn6?method=export&format=GeoJSON') %>% \n",
        "  st_transform(crs = st_crs(4326)) %>% \n",
        "  st_as_sf() %>% \n",
        "  select(community)\n",
        "geom_tract <- geom_tract %>%\n",
        "  st_join(., community_areas, left= TRUE, largest = TRUE) %>%\n",
        "  filter(!is.na(community))"
      ],
      "execution_count": null,
      "outputs": []
    },
    {
      "cell_type": "code",
      "metadata": {
        "id": "ZcQn6vN_1HPp"
      },
      "source": [
        "# Visualizations of Tracts\n",
        "#Income\n",
        "ggplot(geom_tract %>% left_join(., df2, by = c('GEOID'='tract_fips')) %>% filter(group_label == 'Household income'), \n",
        "       aes(fill = dkl_tract , color =  dkl_tract)) +\n",
        "  geom_sf() + scale_fill_viridis() + scale_color_viridis() +\n",
        "  labs(subtitle = 'Household income') +\n",
        "  theme_minimal() + theme(legend.title = element_blank(), axis.text = element_blank())"
      ],
      "execution_count": null,
      "outputs": []
    },
    {
      "cell_type": "code",
      "metadata": {
        "id": "GU8RteNB1Hqy"
      },
      "source": [
        "# Race\n",
        "ggplot(geom_tract %>% left_join(., df2, by = c('GEOID'='tract_fips')) %>% filter(group_label == 'Race'), \n",
        "       aes(fill = dkl_tract , color =  dkl_tract)) +\n",
        "    geom_sf() + scale_fill_viridis() + scale_color_viridis() +\n",
        "  labs(subtitle = 'Race') +\n",
        "    theme_minimal() + theme(legend.title = element_blank(), axis.text = element_blank())\n",
        "    "
      ],
      "execution_count": null,
      "outputs": []
    },
    {
      "cell_type": "code",
      "metadata": {
        "id": "pFn0Smnl1Hwh"
      },
      "source": [
        "# Education\n",
        "ggplot(geom_tract %>% left_join(., df2, by = c('GEOID'='tract_fips')) %>% filter(group_label == 'Education attainment'), \n",
        "       aes(fill = dkl_tract , color =  dkl_tract)) +\n",
        "  geom_sf() + scale_fill_viridis() + scale_color_viridis() +\n",
        "  labs(subtitle =  'Education attainment') +\n",
        "  theme_minimal() + theme(legend.title = element_blank(), axis.text = element_blank())\n"
      ],
      "execution_count": null,
      "outputs": []
    },
    {
      "cell_type": "code",
      "metadata": {
        "id": "leppD6oC1H1S"
      },
      "source": [
        "# Bar charts\n",
        "df3 <- df2 \n",
        "# Race\n",
        "lvls <- df2 %>% filter(group_label == 'Race') %>% select(label) %>% distinct() %>% pull(label)\n",
        "df3$label <- factor(df2$label, levels = lvls)\n",
        "ggplot(df3 %>% filter(group_label == 'Race', cbsa_fips == '16980') %>% select(group_label, cbsa_fips, label, dkl_bin) %>% distinct()) +\n",
        "  geom_bar(aes(x= dkl_bin, y = label), stat=\"identity\") \n",
        "\n"
      ],
      "execution_count": null,
      "outputs": []
    },
    {
      "cell_type": "code",
      "metadata": {
        "id": "wlI5DFnV1H8i"
      },
      "source": [
        "# Income\n",
        "lvls <- df2 %>% filter(group_label == 'Household income') %>% select(label) %>% distinct() %>% pull(label)\n",
        "df3$label <- factor(df2$label, levels = lvls)\n",
        "ggplot(df3 %>% filter(group_label == 'Household income', cbsa_fips == '16980') %>% select(group_label, cbsa_fips, label, dkl_bin) %>% distinct()) +\n",
        "  geom_bar(aes(x= dkl_bin, y = label, fill = label), stat=\"identity\") \n"
      ],
      "execution_count": null,
      "outputs": []
    },
    {
      "cell_type": "code",
      "metadata": {
        "id": "WT2BS1Mu0U2u"
      },
      "source": [
        "# Education\n",
        "lvls <- df2 %>% filter(group_label ==  'Education attainment') %>% select(label) %>% distinct() %>% pull(label)\n",
        "df3$label <- factor(df2$label, levels = lvls)\n",
        "ggplot(df3 %>% filter(group_label == 'Education attainment', cbsa_fips == '16980') %>% select(group_label, cbsa_fips, label, dkl_bin) %>% distinct()) +\n",
        "  geom_bar(aes(x= dkl_bin, y = label), stat=\"identity\") \n"
      ],
      "execution_count": null,
      "outputs": []
    }
  ]
}